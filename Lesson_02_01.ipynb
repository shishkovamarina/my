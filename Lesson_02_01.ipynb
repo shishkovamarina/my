{
 "cells": [
  {
   "cell_type": "code",
   "execution_count": 5,
   "metadata": {},
   "outputs": [
    {
     "ename": "ImportError",
     "evalue": "cannot import name 'linear_regression' from 'linear_regression' (C:\\Users\\User\\anaconda3\\lib\\site-packages\\linear_regression\\__init__.py)",
     "output_type": "error",
     "traceback": [
      "\u001b[1;31m---------------------------------------------------------------------------\u001b[0m",
      "\u001b[1;31mImportError\u001b[0m                               Traceback (most recent call last)",
      "\u001b[1;32m<ipython-input-5-748d339bd7a6>\u001b[0m in \u001b[0;36m<module>\u001b[1;34m\u001b[0m\n\u001b[0;32m      2\u001b[0m \u001b[1;32mimport\u001b[0m \u001b[0mnumpy\u001b[0m \u001b[1;32mas\u001b[0m \u001b[0mnp\u001b[0m\u001b[1;33m\u001b[0m\u001b[1;33m\u001b[0m\u001b[0m\n\u001b[0;32m      3\u001b[0m \u001b[1;32mimport\u001b[0m \u001b[0mmatplotlib\u001b[0m\u001b[1;33m.\u001b[0m\u001b[0mpyplot\u001b[0m \u001b[1;32mas\u001b[0m \u001b[0mplt\u001b[0m\u001b[1;33m\u001b[0m\u001b[1;33m\u001b[0m\u001b[0m\n\u001b[1;32m----> 4\u001b[1;33m \u001b[1;32mfrom\u001b[0m \u001b[0mlinear_regression\u001b[0m \u001b[1;32mimport\u001b[0m \u001b[0mlinear_regression\u001b[0m\u001b[1;33m\u001b[0m\u001b[1;33m\u001b[0m\u001b[0m\n\u001b[0m\u001b[0;32m      5\u001b[0m \u001b[1;32mfrom\u001b[0m \u001b[0msklearn\u001b[0m\u001b[1;33m.\u001b[0m\u001b[0mlinear_model\u001b[0m \u001b[1;32mimport\u001b[0m \u001b[0mLinearRegression\u001b[0m \u001b[1;32mas\u001b[0m \u001b[0msklearn_LR\u001b[0m\u001b[1;33m\u001b[0m\u001b[1;33m\u001b[0m\u001b[0m\n\u001b[0;32m      6\u001b[0m \u001b[0mget_ipython\u001b[0m\u001b[1;33m(\u001b[0m\u001b[1;33m)\u001b[0m\u001b[1;33m.\u001b[0m\u001b[0mrun_line_magic\u001b[0m\u001b[1;33m(\u001b[0m\u001b[1;34m'matplotlib'\u001b[0m\u001b[1;33m,\u001b[0m \u001b[1;34m'inline'\u001b[0m\u001b[1;33m)\u001b[0m\u001b[1;33m\u001b[0m\u001b[1;33m\u001b[0m\u001b[0m\n",
      "\u001b[1;31mImportError\u001b[0m: cannot import name 'linear_regression' from 'linear_regression' (C:\\Users\\User\\anaconda3\\lib\\site-packages\\linear_regression\\__init__.py)"
     ]
    }
   ],
   "source": [
    "import matplotlib\n",
    "import numpy as np\n",
    "import matplotlib.pyplot as plt\n",
    "from linear_regression import linear_regression\n",
    "from sklearn.linear_model import LinearRegression as sklearn_LR\n",
    "%matplotlib inline"
   ]
  },
  {
   "cell_type": "markdown",
   "metadata": {},
   "source": [
    "1.У вас, с прошлого урока, имеются реализации расчёта среднеквадратичной ошибки и её градиента для линейнй регрессии с коэффициентами при факторах(w) и свободным коэффициентам.\n",
    "В этом задании вы должны модифицировать реализацию рассчёта среднеквадратичной ошибки и рассчёта её производной, так, чтобы с к среднеквадратичной ошибке добавлялась l2 регулярязационная поправка: $ +c*\\sum \\limits _{j}  w_{j}^2 $ а к градиенту- ссответствующее выражение для градиента регулярязационной поправки."
   ]
  },
  {
   "cell_type": "code",
   "execution_count": 6,
   "metadata": {},
   "outputs": [],
   "source": [
    "class linear_regression:\n",
    "    def _mserror(self, X, y_real):\n",
    "        #рассчёт среднеквадратичной ошибки\n",
    "        y = X.dot(self.w.T)+self.w0+self.c*np.sum(self.w**2)\n",
    "        return np.sum((y - y_real)**2) / y_real.shape[0]\n",
    "    def _mserror_grad(self, X, y_real):\n",
    "        #рассчёт градиента ошибки.\n",
    "        #2*delta.T.dot(X)/y_real.shape[0] - градиент по коэффициентам при факторах\n",
    "        #np.sum(2*delta)/y_real.shape[0] - производная(градиент) при нулевом коэффициенте\n",
    "        delta=(X.dot(self.w.T)+self.w0-y_real)\n",
    "        return 2*delta.T.dot(X)/y_real.shape[0]+2*self.c*self.w, np.sum(2*delta)/y_real.shape[0]"
   ]
  },
  {
   "cell_type": "markdown",
   "metadata": {},
   "source": [
    "2.На основе этих функций создайте свою регуляризированную полиномиальную регрессию и опробуйте на одном из примеров построения полиномиальной модели из этого урока.\n",
    "Пояснение:Для этого Вам достаточно создать класс, который наследуется от класса polynomial_regression из данного урока, и переопределить в нём методы mserror, mserror_grad(под переопределением подразумевается создание на новом классе методов с таким же названием)."
   ]
  },
  {
   "cell_type": "code",
   "execution_count": 6,
   "metadata": {},
   "outputs": [],
   "source": [
    "import pandas as pd"
   ]
  },
  {
   "cell_type": "code",
   "execution_count": 7,
   "metadata": {},
   "outputs": [
    {
     "data": {
      "text/html": [
       "<div>\n",
       "<style scoped>\n",
       "    .dataframe tbody tr th:only-of-type {\n",
       "        vertical-align: middle;\n",
       "    }\n",
       "\n",
       "    .dataframe tbody tr th {\n",
       "        vertical-align: top;\n",
       "    }\n",
       "\n",
       "    .dataframe thead th {\n",
       "        text-align: right;\n",
       "    }\n",
       "</style>\n",
       "<table border=\"1\" class=\"dataframe\">\n",
       "  <thead>\n",
       "    <tr style=\"text-align: right;\">\n",
       "      <th></th>\n",
       "      <th>x</th>\n",
       "      <th>y</th>\n",
       "    </tr>\n",
       "  </thead>\n",
       "  <tbody>\n",
       "    <tr>\n",
       "      <th>1</th>\n",
       "      <td>0.025183</td>\n",
       "      <td>-10.149463</td>\n",
       "    </tr>\n",
       "    <tr>\n",
       "      <th>2</th>\n",
       "      <td>0.050366</td>\n",
       "      <td>-7.517911</td>\n",
       "    </tr>\n",
       "    <tr>\n",
       "      <th>3</th>\n",
       "      <td>0.075549</td>\n",
       "      <td>-5.480920</td>\n",
       "    </tr>\n",
       "    <tr>\n",
       "      <th>4</th>\n",
       "      <td>0.100732</td>\n",
       "      <td>-5.882184</td>\n",
       "    </tr>\n",
       "    <tr>\n",
       "      <th>5</th>\n",
       "      <td>0.125916</td>\n",
       "      <td>-3.672119</td>\n",
       "    </tr>\n",
       "    <tr>\n",
       "      <th>...</th>\n",
       "      <td>...</td>\n",
       "      <td>...</td>\n",
       "    </tr>\n",
       "    <tr>\n",
       "      <th>495</th>\n",
       "      <td>12.465638</td>\n",
       "      <td>7.887764</td>\n",
       "    </tr>\n",
       "    <tr>\n",
       "      <th>496</th>\n",
       "      <td>12.490821</td>\n",
       "      <td>7.991471</td>\n",
       "    </tr>\n",
       "    <tr>\n",
       "      <th>497</th>\n",
       "      <td>12.516004</td>\n",
       "      <td>8.313358</td>\n",
       "    </tr>\n",
       "    <tr>\n",
       "      <th>498</th>\n",
       "      <td>12.541188</td>\n",
       "      <td>9.128511</td>\n",
       "    </tr>\n",
       "    <tr>\n",
       "      <th>499</th>\n",
       "      <td>12.566371</td>\n",
       "      <td>7.703401</td>\n",
       "    </tr>\n",
       "  </tbody>\n",
       "</table>\n",
       "<p>499 rows × 2 columns</p>\n",
       "</div>"
      ],
      "text/plain": [
       "             x          y\n",
       "1     0.025183 -10.149463\n",
       "2     0.050366  -7.517911\n",
       "3     0.075549  -5.480920\n",
       "4     0.100732  -5.882184\n",
       "5     0.125916  -3.672119\n",
       "..         ...        ...\n",
       "495  12.465638   7.887764\n",
       "496  12.490821   7.991471\n",
       "497  12.516004   8.313358\n",
       "498  12.541188   9.128511\n",
       "499  12.566371   7.703401\n",
       "\n",
       "[499 rows x 2 columns]"
      ]
     },
     "execution_count": 7,
     "metadata": {},
     "output_type": "execute_result"
    }
   ],
   "source": [
    "#чтение датасета\n",
    "data=pd.read_csv('datasets5.csv')\n",
    "data=data.iloc[1:,:]\n",
    "data"
   ]
  },
  {
   "cell_type": "code",
   "execution_count": 8,
   "metadata": {},
   "outputs": [],
   "source": [
    "\n",
    "x_data = data['x']\n",
    "f_data = data['y']"
   ]
  },
  {
   "cell_type": "code",
   "execution_count": 85,
   "metadata": {},
   "outputs": [],
   "source": [
    "from scipy.optimize import minimize\n",
    "class linear_regression:\n",
    "    def __init__(self, eta = 0.9, max_iter = 1e4, min_weight_dist = 1e-8):\n",
    "        self.eta = eta\n",
    "        self.max_iter = max_iter\n",
    "        self.min_weight_dist = min_weight_dist\n",
    "    def _mserror(self, X, y_real):\n",
    "        #рассчёт среднеквадратичной ошибки\n",
    "        y = X.dot(self.w.T)+self.w0\n",
    "        return np.sum((y - y_real)**2) / y_real.shape[0]\n",
    "    def _mserror_grad(self, X, y_real):\n",
    "        #рассчёт градиента ошибки.\n",
    "        #2*delta.T.dot(X)/y_real.shape[0] - градиент по коэффициентам при факторах\n",
    "        #np.sum(2*delta)/y_real.shape[0] - производная(градиент) при нулевом коэффициенте\n",
    "        delta=(X.dot(self.w.T)+self.w0-y_real)\n",
    "        return 2*delta.T.dot(X)/y_real.shape[0], np.sum(2*delta)/y_real.shape[0]\n",
    "    def _optimize(self, X, Y):\n",
    "            def assign_w(w):\n",
    "                self.w0=w[0]\n",
    "                self.w=w[1:][np.newaxis, :]\n",
    "            def func(w):\n",
    "                assign_w(w)\n",
    "                return super(polynomial_regression, self).test(X, Y)\n",
    "            def jac(w):\n",
    "                assign_w(w)\n",
    "                gr_w, gr_w0=self._mserror_grad(X,Y)\n",
    "                return np.concatenate([[gr_w0], gr_w.flatten()])\n",
    "            w=np.zeros((X.shape[1]+1,))\n",
    "            w=minimize(func, w, jac=jac, method= 'BFGS').x\n",
    "            assign_w(w)\n",
    "       \n",
    "    def fit(self, X, Y):\n",
    "        if Y.ndim==1:\n",
    "            Y=Y[:, np.newaxis]\n",
    "        self._optimize(X, Y)\n",
    "        return self\n",
    "    def predict(self, X):\n",
    "        return (X.dot(self.w.T)+self.w0).flatten()\n",
    "    def test(self, X, Y):\n",
    "        if Y.ndim==1:\n",
    "            Y=Y[:, np.newaxis]\n",
    "        return self._mserror(X, Y)\n",
    "    "
   ]
  },
  {
   "cell_type": "code",
   "execution_count": 86,
   "metadata": {},
   "outputs": [],
   "source": [
    "class polynomial_regression(linear_regression):\n",
    "    def __init__(self, max_power, *args, **kwargs):\n",
    "        self.max_power=max_power\n",
    "        super().__init__(*args, **kwargs)\n",
    "    @staticmethod\n",
    "    def generate_features(x, max_power):\n",
    "        x=x[:, np.newaxis]\n",
    "        return np.concatenate([x**i for i in range(1, max_power+1)], axis=1)\n",
    "    def fit(self, x, y):\n",
    "        super().fit(self.generate_features(x, self.max_power), y)\n",
    "    def predict(self, x):\n",
    "        return super().predict(self.generate_features(x, self.max_power)).flatten()\n",
    "    def test(self, x, y):\n",
    "        return super().test(self.generate_features(x, self.max_power), y)"
   ]
  },
  {
   "cell_type": "code",
   "execution_count": 87,
   "metadata": {},
   "outputs": [],
   "source": [
    "class polynomial_regression_l2(polynomial_regression):\n",
    "    def __init__(self, max_power, c=1.0):\n",
    "        self.max_power=max_power\n",
    "        self.c=c\n",
    "    def _mserror(self, X, y_real):\n",
    "        #рассчёт среднеквадратичной ошибки\n",
    "        y = X.dot(self.w.T)+self.w0+self.c*np.sum(self.w**2)\n",
    "        return np.sum((y - y_real)**2) / y_real.shape[0]\n",
    "    def _mserror_grad(self, X, y_real):\n",
    "        #рассчёт градиента ошибки.\n",
    "        #2*delta.T.dot(X)/y_real.shape[0] - градиент по коэффициентам при факторах\n",
    "        #np.sum(2*delta)/y_real.shape[0] - производная(градиент) при нулевом коэффициенте\n",
    "        delta=(X.dot(self.w.T)+self.w0-y_real)\n",
    "        return 2*delta.T.dot(X)/y_real.shape[0]+2*self.c*self.w, np.sum(2*delta)/y_real.shape[0]\n",
    "    "
   ]
  },
  {
   "cell_type": "code",
   "execution_count": 88,
   "metadata": {},
   "outputs": [
    {
     "name": "stderr",
     "output_type": "stream",
     "text": [
      "<ipython-input-86-68dfd0937e02>:7: FutureWarning: Support for multi-dimensional indexing (e.g. `obj[:, None]`) is deprecated and will be removed in a future version.  Convert to a numpy array before indexing instead.\n",
      "  x=x[:, np.newaxis]\n",
      "<ipython-input-85-89f03ff6679e>:34: FutureWarning: Support for multi-dimensional indexing (e.g. `obj[:, None]`) is deprecated and will be removed in a future version.  Convert to a numpy array before indexing instead.\n",
      "  Y=Y[:, np.newaxis]\n",
      "<ipython-input-86-68dfd0937e02>:7: FutureWarning: Support for multi-dimensional indexing (e.g. `obj[:, None]`) is deprecated and will be removed in a future version.  Convert to a numpy array before indexing instead.\n",
      "  x=x[:, np.newaxis]\n"
     ]
    },
    {
     "data": {
      "text/plain": [
       "array([ 0.64228035,  0.65346526,  0.66522944,  0.67758487,  0.6905411 ,\n",
       "        0.70410543,  0.71828297,  0.73307683,  0.74848822,  0.76451654,\n",
       "        0.78115955,  0.79841345,  0.81627298,  0.83473156,  0.85378135,\n",
       "        0.87341335,  0.89361752,  0.91438287,  0.93569749,  0.95754871,\n",
       "        0.97992311,  1.00280664,  1.02618469,  1.05004213,  1.07436339,\n",
       "        1.09913256,  1.12433339,  1.14994938,  1.17596384,  1.20235994,\n",
       "        1.22912074,  1.25622926,  1.28366852,  1.31142157,  1.33947154,\n",
       "        1.3678017 ,  1.39639545,  1.42523637,  1.45430829,  1.48359527,\n",
       "        1.51308163,  1.54275202,  1.5725914 ,  1.60258508,  1.63271874,\n",
       "        1.66297842,  1.69335061,  1.72382217,  1.75438043,  1.78501313,\n",
       "        1.81570849,  1.84645518,  1.87724234,  1.90805959,  1.93889705,\n",
       "        1.9697453 ,  2.00059543,  2.03143901,  2.06226812,  2.09307532,\n",
       "        2.12385366,  2.1545967 ,  2.18529847,  2.21595349,  2.24655675,\n",
       "        2.27710372,  2.30759035,  2.33801301,  2.36836858,  2.39865433,\n",
       "        2.428868  ,  2.45900774,  2.48907212,  2.51906012,  2.5489711 ,\n",
       "        2.57880481,  2.60856139,  2.6382413 ,  2.66784537,  2.69737477,\n",
       "        2.72683097,  2.75621575,  2.78553119,  2.81477966,  2.84396375,\n",
       "        2.87308635,  2.90215056,  2.9311597 ,  2.9601173 ,  2.98902708,\n",
       "        3.01789294,  3.04671893,  3.07550926,  3.10426825,  3.13300037,\n",
       "        3.16171017,  3.19040227,  3.2190814 ,  3.24775232,  3.27641983,\n",
       "        3.30508879,  3.33376404,  3.36245044,  3.39115283,  3.41987601,\n",
       "        3.44862477,  3.47740382,  3.50621781,  3.53507131,  3.5639688 ,\n",
       "        3.59291467,  3.62191315,  3.6509684 ,  3.68008439,  3.70926497,\n",
       "        3.73851381,  3.76783444,  3.79723016,  3.82670413,  3.85625926,\n",
       "        3.8858983 ,  3.91562373,  3.94543786,  3.97534271,  4.0053401 ,\n",
       "        4.03543157,  4.06561843,  4.09590172,  4.1262822 ,  4.15676036,\n",
       "        4.18733643,  4.21801034,  4.24878172,  4.27964994,  4.31061404,\n",
       "        4.3416728 ,  4.37282466,  4.40406778,  4.43540001,  4.46681889,\n",
       "        4.49832165,  4.52990523,  4.56156624,  4.59330098,  4.62510546,\n",
       "        4.65697537,  4.6889061 ,  4.72089274,  4.75293007,  4.78501257,\n",
       "        4.81713443,  4.84928954,  4.88147151,  4.91367367,  4.94588906,\n",
       "        4.97811043,  5.01033029,  5.04254086,  5.07473411,  5.10690177,\n",
       "        5.13903531,  5.17112595,  5.2031647 ,  5.23514233,  5.2670494 ,\n",
       "        5.29887626,  5.33061306,  5.36224977,  5.39377614,  5.4251818 ,\n",
       "        5.45645616,  5.48758852,  5.51856803,  5.54938367,  5.58002434,\n",
       "        5.61047881,  5.64073574,  5.67078371,  5.70061122,  5.73020671,\n",
       "        5.75955853,  5.78865503,  5.8174845 ,  5.84603521,  5.87429544,\n",
       "        5.90225346,  5.92989755,  5.95721603,  5.98419726,  6.01082966,\n",
       "        6.03710171,  6.06300196,  6.08851908,  6.11364182,  6.13835907,\n",
       "        6.16265983,  6.18653326,  6.20996867,  6.23295555,  6.25548357,\n",
       "        6.27754259,  6.29912269,  6.32021416,  6.34080753,  6.36089359,\n",
       "        6.38046337,  6.39950818,  6.41801963,  6.43598959,  6.45341029,\n",
       "        6.47027423,  6.48657428,  6.50230363,  6.51745584,  6.53202484,\n",
       "        6.54600491,  6.55939076,  6.57217746,  6.58436052,  6.59593584,\n",
       "        6.60689977,  6.61724911,  6.62698106,  6.63609334,  6.64458408,\n",
       "        6.65245191,  6.65969596,  6.6663158 ,  6.67231155,  6.6776838 ,\n",
       "        6.68243366,  6.68656276,  6.69007325,  6.69296781,  6.69524966,\n",
       "        6.69692255,  6.69799077,  6.69845917,  6.69833314,  6.69761863,\n",
       "        6.69632214,  6.69445075,  6.69201206,  6.68901427,  6.68546613,\n",
       "        6.68137694,  6.67675659,  6.67161551,  6.66596469,  6.65981571,\n",
       "        6.65318068,  6.64607228,  6.63850372,  6.63048879,  6.62204181,\n",
       "        6.61317763,  6.60391166,  6.59425982,  6.58423856,  6.57386486,\n",
       "        6.56315617,  6.5521305 ,  6.5408063 ,  6.52920253,  6.51733864,\n",
       "        6.5052345 ,  6.49291049,  6.48038739,  6.46768643,  6.45482927,\n",
       "        6.44183795,  6.42873494,  6.41554306,  6.40228551,  6.38898584,\n",
       "        6.37566793,  6.36235599,  6.34907452,  6.33584833,  6.32270247,\n",
       "        6.30966227,  6.29675326,  6.28400121,  6.27143207,  6.25907197,\n",
       "        6.24694719,  6.23508415,  6.22350937,  6.21224947,  6.20133111,\n",
       "        6.19078103,  6.18062596,  6.17089265,  6.1616078 ,  6.15279807,\n",
       "        6.14449004,  6.13671019,  6.12948486,  6.12284024,  6.11680235,\n",
       "        6.11139698,  6.1066497 ,  6.10258582,  6.09923033,  6.09660794,\n",
       "        6.09474298,  6.09365943,  6.09338084,  6.09393033,  6.09533058,\n",
       "        6.09760375,  6.10077148,  6.10485488,  6.10987444,  6.11585008,\n",
       "        6.12280104,  6.13074591,  6.13970257,  6.14968816,  6.16071906,\n",
       "        6.17281087,  6.18597835,  6.20023541,  6.21559507,  6.23206945,\n",
       "        6.24966973,  6.26840609,  6.28828774,  6.30932284,  6.3315185 ,\n",
       "        6.35488073,  6.37941443,  6.40512338,  6.43201014,  6.46007613,\n",
       "        6.48932149,  6.51974516,  6.55134477,  6.58411667,  6.61805587,\n",
       "        6.65315606,  6.68940954,  6.72680721,  6.76533858,  6.80499172,\n",
       "        6.84575324,  6.88760828,  6.9305405 ,  6.97453204,  7.01956353,\n",
       "        7.06561406,  7.11266118,  7.16068086,  7.20964751,  7.25953395,\n",
       "        7.31031142,  7.36194955,  7.41441637,  7.4676783 ,  7.52170014,\n",
       "        7.5764451 ,  7.63187476,  7.68794909,  7.74462646,  7.80186363,\n",
       "        7.85961577,  7.91783646,  7.97647773,  8.03549002,  8.09482224,\n",
       "        8.15442176,  8.21423447,  8.27420474,  8.33427549,  8.39438822,\n",
       "        8.454483  ,  8.51449853,  8.5743722 ,  8.63404004,  8.69343687,\n",
       "        8.75249625,  8.81115058,  8.86933113,  8.92696809,  8.98399062,\n",
       "        9.04032692,  9.09590429,  9.15064917,  9.20448725,  9.2573435 ,\n",
       "        9.30914225,  9.3598073 ,  9.40926197,  9.4574292 ,  9.50423162,\n",
       "        9.54959166,  9.59343167,  9.63567397,  9.67624099,  9.71505536,\n",
       "        9.75204005,  9.78711848,  9.82021463,  9.85125315,  9.88015957,\n",
       "        9.90686034,  9.93128305,  9.95335652,  9.973011  ,  9.99017829,\n",
       "       10.00479194, 10.01678738, 10.02610212, 10.03267593, 10.036451  ,\n",
       "       10.03737218, 10.03538711, 10.03044649, 10.02250425, 10.01151778,\n",
       "        9.99744815,  9.98026033,  9.95992345,  9.93641101,  9.90970114,\n",
       "        9.87977689,  9.84662644,  9.8102434 ,  9.77062708,  9.72778279,\n",
       "        9.6817221 ,  9.63246318,  9.58003109,  9.52445807,  9.46578391,\n",
       "        9.40405625,  9.33933096,  9.27167242,  9.20115395,  9.12785813,\n",
       "        9.05187719,  8.97331342,  8.8922795 ,  8.80889898,  8.72330662,\n",
       "        8.63564886,  8.54608425,  8.45478386,  8.36193175,  8.26772542,\n",
       "        8.17237633,  8.0761103 ,  7.97916807,  7.88180577,  7.78429544,\n",
       "        7.68692557,  7.59000162,  7.49384656,  7.39880146,  7.30522602,\n",
       "        7.21349919,  7.12401974,  7.03720689,  6.95350088,  6.87336368,\n",
       "        6.79727954,  6.72575574,  6.65932319,  6.59853713,  6.54397785,\n",
       "        6.49625139,  6.45599024,  6.4238541 ,  6.40053061,  6.38673616,\n",
       "        6.38321661,  6.39074813,  6.41013798,  6.44222534,  6.48788219,\n",
       "        6.54801408,  6.62356108,  6.71549863,  6.82483841,  6.95262934,\n",
       "        7.09995843,  7.26795178,  7.45777551,  7.67063679,  7.9077848 ,\n",
       "        8.17051175,  8.46015394,  8.77809279,  9.12575592,  9.50461825,\n",
       "        9.91620306, 10.36208319, 10.84388211, 11.36327512])"
      ]
     },
     "execution_count": 88,
     "metadata": {},
     "output_type": "execute_result"
    }
   ],
   "source": [
    "#Построение полиномиальной регресси при ощи созданного нами класса\n",
    "mod2=polynomial_regression_l2(9)\n",
    "mod2.fit(x_data, f_data)\n",
    "y_poly=mod2.predict(x_data)\n",
    "y_poly"
   ]
  },
  {
   "cell_type": "code",
   "execution_count": 89,
   "metadata": {},
   "outputs": [
    {
     "name": "stdout",
     "output_type": "stream",
     "text": [
      "Коэффициенты при факторах(наша модель): [[ 4.10726582e-01  4.31803051e-01  1.94630790e-01 -2.96170414e-01\n",
      "   1.25847333e-01 -2.61552412e-02  2.86930471e-03 -1.58900351e-04\n",
      "   3.49624733e-06]]\n",
      "Нулевые коэффициенты(интерцепты): 0.6316601408865943\n"
     ]
    },
    {
     "name": "stderr",
     "output_type": "stream",
     "text": [
      "<ipython-input-86-68dfd0937e02>:7: FutureWarning: Support for multi-dimensional indexing (e.g. `obj[:, None]`) is deprecated and will be removed in a future version.  Convert to a numpy array before indexing instead.\n",
      "  x=x[:, np.newaxis]\n",
      "<ipython-input-85-89f03ff6679e>:34: FutureWarning: Support for multi-dimensional indexing (e.g. `obj[:, None]`) is deprecated and will be removed in a future version.  Convert to a numpy array before indexing instead.\n",
      "  Y=Y[:, np.newaxis]\n"
     ]
    }
   ],
   "source": [
    "our_mod=polynomial_regression_l2(9)\n",
    "our_mod.fit(x_data, f_data)\n",
    "print('Коэффициенты при факторах(наша модель):', our_mod.w)\n",
    "print('Нулевые коэффициенты(интерцепты):',our_mod.w0)"
   ]
  },
  {
   "cell_type": "code",
   "execution_count": 81,
   "metadata": {},
   "outputs": [
    {
     "data": {
      "image/png": "[encoded data removed]",
      "text/plain": [
       "<Figure size 1152x576 with 1 Axes>"
      ]
     },
     "metadata": {
      "needs_background": "light"
     },
     "output_type": "display_data"
    }
   ],
   "source": [
    "plt.figure(figsize = (16, 8))\n",
    "plt.scatter(x_data, f_data, s=10)\n",
    "plt.title('Polynomial Regression')\n",
    "plt.plot(x_data, y_poly, color='m')\n",
    "plt.show()"
   ]
  },
  {
   "cell_type": "markdown",
   "metadata": {},
   "source": [
    "3*. (по желанию). Оцените оцените предсказательную способность реализованного метода с использование 5-ти ступенчатой кросс-валидации, показанной в примере выше."
   ]
  },
  {
   "cell_type": "code",
   "execution_count": 82,
   "metadata": {},
   "outputs": [
    {
     "name": "stdout",
     "output_type": "stream",
     "text": [
      "0.5177373894347339\n"
     ]
    },
    {
     "name": "stderr",
     "output_type": "stream",
     "text": [
      "<ipython-input-7-68dfd0937e02>:7: FutureWarning: Support for multi-dimensional indexing (e.g. `obj[:, None]`) is deprecated and will be removed in a future version.  Convert to a numpy array before indexing instead.\n",
      "  x=x[:, np.newaxis]\n"
     ]
    }
   ],
   "source": [
    "#Посчитаем р-квадрат\n",
    "def r_square(y, y_real):\n",
    "    ss_total=np.sum((y_real-np.mean(y_real))**2)\n",
    "    ss_res=np.sum((y_real-y)**2)\n",
    "    return 1-ss_res/ss_total\n",
    "print(r_square(model.predict(x_data), f_data))"
   ]
  },
  {
   "cell_type": "code",
   "execution_count": 83,
   "metadata": {},
   "outputs": [
    {
     "name": "stdout",
     "output_type": "stream",
     "text": [
      "0.5165886926904292\n"
     ]
    },
    {
     "name": "stderr",
     "output_type": "stream",
     "text": [
      "<ipython-input-7-68dfd0937e02>:7: FutureWarning: Support for multi-dimensional indexing (e.g. `obj[:, None]`) is deprecated and will be removed in a future version.  Convert to a numpy array before indexing instead.\n",
      "  x=x[:, np.newaxis]\n",
      "<ipython-input-6-89f03ff6679e>:34: FutureWarning: Support for multi-dimensional indexing (e.g. `obj[:, None]`) is deprecated and will be removed in a future version.  Convert to a numpy array before indexing instead.\n",
      "  Y=Y[:, np.newaxis]\n",
      "<ipython-input-7-68dfd0937e02>:7: FutureWarning: Support for multi-dimensional indexing (e.g. `obj[:, None]`) is deprecated and will be removed in a future version.  Convert to a numpy array before indexing instead.\n",
      "  x=x[:, np.newaxis]\n",
      "<ipython-input-6-89f03ff6679e>:34: FutureWarning: Support for multi-dimensional indexing (e.g. `obj[:, None]`) is deprecated and will be removed in a future version.  Convert to a numpy array before indexing instead.\n",
      "  Y=Y[:, np.newaxis]\n",
      "<ipython-input-7-68dfd0937e02>:7: FutureWarning: Support for multi-dimensional indexing (e.g. `obj[:, None]`) is deprecated and will be removed in a future version.  Convert to a numpy array before indexing instead.\n",
      "  x=x[:, np.newaxis]\n",
      "<ipython-input-6-89f03ff6679e>:34: FutureWarning: Support for multi-dimensional indexing (e.g. `obj[:, None]`) is deprecated and will be removed in a future version.  Convert to a numpy array before indexing instead.\n",
      "  Y=Y[:, np.newaxis]\n",
      "<ipython-input-7-68dfd0937e02>:7: FutureWarning: Support for multi-dimensional indexing (e.g. `obj[:, None]`) is deprecated and will be removed in a future version.  Convert to a numpy array before indexing instead.\n",
      "  x=x[:, np.newaxis]\n",
      "<ipython-input-6-89f03ff6679e>:34: FutureWarning: Support for multi-dimensional indexing (e.g. `obj[:, None]`) is deprecated and will be removed in a future version.  Convert to a numpy array before indexing instead.\n",
      "  Y=Y[:, np.newaxis]\n",
      "<ipython-input-7-68dfd0937e02>:7: FutureWarning: Support for multi-dimensional indexing (e.g. `obj[:, None]`) is deprecated and will be removed in a future version.  Convert to a numpy array before indexing instead.\n",
      "  x=x[:, np.newaxis]\n",
      "<ipython-input-6-89f03ff6679e>:34: FutureWarning: Support for multi-dimensional indexing (e.g. `obj[:, None]`) is deprecated and will be removed in a future version.  Convert to a numpy array before indexing instead.\n",
      "  Y=Y[:, np.newaxis]\n",
      "<ipython-input-7-68dfd0937e02>:7: FutureWarning: Support for multi-dimensional indexing (e.g. `obj[:, None]`) is deprecated and will be removed in a future version.  Convert to a numpy array before indexing instead.\n",
      "  x=x[:, np.newaxis]\n"
     ]
    }
   ],
   "source": [
    "indexes=np.arange(len(f_data))%5\n",
    "y_actual=[]\n",
    "y_predicted=[]\n",
    "\n",
    "for i in range(5):\n",
    "    y_actual.append(f_data[indexes==i])\n",
    "    mod=polynomial_regression_l2(3)\n",
    "    mod.fit(x_data[indexes!=i], f_data[indexes!=i])\n",
    "    y_predicted.append(mod.predict(x_data[indexes==i]))\n",
    "    \n",
    "y_actual=np.concatenate(y_actual)\n",
    "y_predicted=np.concatenate(y_predicted)\n",
    "print(r_square(y_predicted, y_actual))"
   ]
  },
  {
   "cell_type": "code",
   "execution_count": 84,
   "metadata": {},
   "outputs": [
    {
     "data": {
      "text/plain": [
       "10.423480292990307"
      ]
     },
     "execution_count": 84,
     "metadata": {},
     "output_type": "execute_result"
    }
   ],
   "source": [
    "np.sum((y_actual-np.mean(y_actual))**2)/len(y_actual)"
   ]
  },
  {
   "cell_type": "markdown",
   "metadata": {},
   "source": [
    "решение_2"
   ]
  },
  {
   "cell_type": "code",
   "execution_count": 1,
   "metadata": {},
   "outputs": [],
   "source": [
    "#импорт библиотек\n",
    "import operator\n",
    "\n",
    "import numpy as np\n",
    "import pandas as pd\n",
    "import matplotlib.pyplot as plt\n",
    "\n",
    "from sklearn.linear_model import LinearRegression\n",
    "from sklearn.metrics import mean_squared_error, r2_score\n",
    "from sklearn.preprocessing import PolynomialFeatures\n",
    "from sklearn import metrics"
   ]
  },
  {
   "cell_type": "code",
   "execution_count": 2,
   "metadata": {},
   "outputs": [],
   "source": [
    "#функция для расчета метрик\n",
    "def print_evaluate(true, predicted):  \n",
    "    mae = metrics.mean_absolute_error(true, predicted)\n",
    "    mse = metrics.mean_squared_error(true, predicted)\n",
    "    rmse = np.sqrt(metrics.mean_squared_error(true, predicted))\n",
    "    r2_square = metrics.r2_score(true, predicted)\n",
    "    print('MAE:', mae)\n",
    "    print('MSE:', mse)\n",
    "    print('RMSE:', rmse)\n",
    "    print('R2 Square', r2_square)\n",
    "    print('__________________________________')\n",
    "\n",
    "    \n",
    "def evaluate(true, predicted):\n",
    "    mae = metrics.mean_absolute_error(true, predicted)\n",
    "    mse = metrics.mean_squared_error(true, predicted)\n",
    "    rmse = np.sqrt(metrics.mean_squared_error(true, predicted))\n",
    "    r2_square = metrics.r2_score(true, predicted)\n",
    "    return mae, mse, rmse, r2_square"
   ]
  },
  {
   "cell_type": "code",
   "execution_count": 10,
   "metadata": {},
   "outputs": [],
   "source": [
    "x = data.iloc[:, 0:1].values\n",
    "y = data.iloc[:, 1:].values"
   ]
  },
  {
   "cell_type": "code",
   "execution_count": 18,
   "metadata": {},
   "outputs": [
    {
     "name": "stdout",
     "output_type": "stream",
     "text": [
      "Set evaluation:\n",
      "_____________________________________\n",
      "MAE: 0.4762678024112833\n",
      "MSE: 0.3114686715782839\n",
      "RMSE: 0.5580937838556204\n",
      "R2 Square 0.9701185532256684\n",
      "__________________________________\n"
     ]
    }
   ],
   "source": [
    "#модель полиномиальной регресии\n",
    "polynomial_features = PolynomialFeatures(degree=20)\n",
    "\n",
    "x_poly = polynomial_features.fit_transform(x)\n",
    "\n",
    "\n",
    "model = LinearRegression(normalize=True)\n",
    "model.fit(x_poly,y)\n",
    "\n",
    "y_poly = model.predict(x_poly)\n",
    "\n",
    "#метрики\n",
    "print('Set evaluation:\\n_____________________________________')\n",
    "print_evaluate(y, y_poly)\n"
   ]
  },
  {
   "cell_type": "code",
   "execution_count": 19,
   "metadata": {},
   "outputs": [
    {
     "data": {
      "image/png": "[encoded data removed]",
      "text/plain": [
       "<Figure size 1152x576 with 1 Axes>"
      ]
     },
     "metadata": {
      "needs_background": "light"
     },
     "output_type": "display_data"
    }
   ],
   "source": [
    "#визуализация\n",
    "plt.figure(figsize = (16, 8))\n",
    "plt.scatter(x, y, s=10)\n",
    "plt.title('Polynomial Regression')\n",
    "plt.plot(x, y_poly, color='m')\n",
    "plt.show()"
   ]
  },
  {
   "cell_type": "code",
   "execution_count": null,
   "metadata": {},
   "outputs": [],
   "source": []
  },
  {
   "cell_type": "code",
   "execution_count": null,
   "metadata": {},
   "outputs": [],
   "source": []
  }
 ],
 "metadata": {
  "kernelspec": {
   "display_name": "Python 3",
   "language": "python",
   "name": "python3"
  },
  "language_info": {
   "codemirror_mode": {
    "name": "ipython",
    "version": 3
   },
   "file_extension": ".py",
   "mimetype": "text/x-python",
   "name": "python",
   "nbconvert_exporter": "python",
   "pygments_lexer": "ipython3",
   "version": "3.8.5"
  }
 },
 "nbformat": 4,
 "nbformat_minor": 4
}
